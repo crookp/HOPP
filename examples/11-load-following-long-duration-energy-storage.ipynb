{
 "cells": [
  {
   "cell_type": "markdown",
   "metadata": {},
   "source": [
    "# Long-Duration Energy Storage Example\n",
    "---\n",
    "In this example, we will show how to use and modify the long duration energy storage (LDES) parameters in the hybrid plant simulation. The LDES model is built inside of the battery module, so the parameters are very similar to the battery storage model. In this example we will model a vanadium redox flow battery (VRFB), but we have written the model in a general way so that many types of long-duration energy storage can be modeled reasonably."
   ]
  },
  {
   "cell_type": "markdown",
   "metadata": {},
   "source": [
    "### Import Required Modules\n",
    "Begin by importing the necessary modules for the simulation."
   ]
  },
  {
   "cell_type": "code",
   "execution_count": null,
   "metadata": {},
   "outputs": [],
   "source": [
    "import numpy as np\n",
    "\n",
    "from hopp import ROOT_DIR\n",
    "from hopp.simulation import HoppInterface\n",
    "from hopp.utilities import load_yaml\n",
    "from hopp.simulation.technologies.sites import SiteInfo, flatirons_site\n",
    "from hopp.tools.dispatch.plot_tools import (\n",
    "    plot_generation_profile\n",
    ")\n"
   ]
  },
  {
   "cell_type": "markdown",
   "metadata": {},
   "source": [
    "### Set Site Information\n",
    "Set wind and solar resource data at plant location and load pricing data. In this example, we use the Flatirons site as an example location.\n",
    "\n",
    "\n",
    "\n",
    "**NOTE**: For a load following objective function the `desired_schedule` must be set. You can also specify `curtailment_value_type` to either _\"grid\"_ or _\"desired_schedule\"_. If you select _\"grid\"_ the system will curtail energy at the interconnection limit but optimize to meet the `desired_schedule` load and if you select _\"desired_schedule\"_ it curtails energy above the `desired_schedule` and optimizes to meet the `desired_schedule` load."
   ]
  },
  {
   "cell_type": "code",
   "execution_count": null,
   "metadata": {},
   "outputs": [],
   "source": [
    "DEFAULT_SOLAR_RESOURCE_FILE = ROOT_DIR.parent / \"hopp\" / \"simulation\" / \"resource_files\" / \"solar\" / \"35.2018863_-101.945027_psmv3_60_2012.csv\"\n",
    "DEFAULT_WIND_RESOURCE_FILE = ROOT_DIR.parent / \"hopp\" / \"simulation\"  / \"resource_files\" / \"wind\" / \"35.2018863_-101.945027_windtoolkit_2012_60min_80m_100m.srw\"\n",
    "DEFAULT_PRICE_FILE = ROOT_DIR.parent / \"hopp\" / \"simulation\" / \"resource_files\" / \"grid\" / \"pricing-data-2015-IronMtn-002_factors.csv\"\n",
    "\n",
    "setpoint_kw = float(10 * 1000)\n",
    "DEFAULT_LOAD = setpoint_kw*np.ones((8760))/1000\n",
    "\n",
    "site = SiteInfo(\n",
    "        flatirons_site,\n",
    "        solar_resource_file=DEFAULT_SOLAR_RESOURCE_FILE,\n",
    "        wind_resource_file=DEFAULT_WIND_RESOURCE_FILE,\n",
    "        grid_resource_file=DEFAULT_PRICE_FILE,\n",
    "        desired_schedule=DEFAULT_LOAD,\n",
    "        curtailment_value_type=\"interconnect_kw\",\n",
    "        solar=True,\n",
    "        wind=True,\n",
    "        wave=False\n",
    "    )"
   ]
  },
  {
   "cell_type": "markdown",
   "metadata": {},
   "source": [
    "### Create the HOPP Model\n",
    "To generate the HOPP Model, instantiate the `HoppInterface` class and supply the required YAML configuration.\n",
    "\n",
    "`HOPPInterface` is capable of handling dictionary input as well as class instances. Here we demonstrate this by loading the YAML file as a dict, modifying it to include our site information, then passing it as an argument to `HoppInterface`. This is useful for programmatic configuration of simulation configs."
   ]
  },
  {
   "cell_type": "code",
   "execution_count": null,
   "metadata": {},
   "outputs": [],
   "source": [
    "hopp_config = load_yaml(\"./inputs/11-load-following-long-duration-energy-storage.yaml\")\n",
    "\n",
    "# alert the model that a replacement schedule will be provided\n",
    "hopp_config[\"technologies\"][\"battery\"][\"fin_model\"][\"battery_system\"][\"batt_replacement_option\"] = 2\n",
    "# set up the replacement schedule to replace the battery every 15 years at a cost of 50% of the initial capex\n",
    "project_life_years = 25\n",
    "refurb = [0]*project_life_years\n",
    "battery_life_years = 15\n",
    "for i in range(battery_life_years-1, project_life_years, battery_life_years):\n",
    "    refurb[i] = 0.5\n",
    "\n",
    "# assign replacement schedule to the input config\n",
    "hopp_config[\"technologies\"][\"battery\"][\"fin_model\"][\"battery_system\"][\"batt_replacement_schedule_percent\"] = refurb\n",
    "\n",
    "# set battery om per kw including per kwh cost - om per kwh not included internally\n",
    "battery_rating_kw = hopp_config[\"technologies\"][\"battery\"][\"system_capacity_kw\"]\n",
    "battery_rating_kwh = hopp_config[\"technologies\"][\"battery\"][\"system_capacity_kwh\"]\n",
    "batt_om_per_kwh = hopp_config[\"config\"][\"cost_info\"][\"battery_om_per_kwh\"]\n",
    "batt_om_per_kw = hopp_config[\"config\"][\"cost_info\"][\"battery_om_per_kw\"]\n",
    "total_batt_om_per_kw = (battery_rating_kw*batt_om_per_kw + battery_rating_kwh*batt_om_per_kwh)/battery_rating_kw\n",
    "hopp_config[\"config\"][\"cost_info\"][\"battery_om_per_kw\"] = total_batt_om_per_kw\n",
    "\n",
    "# remove om per kwh input because it is an invalid input to HOPP\n",
    "hopp_config[\"config\"][\"cost_info\"].pop(\"battery_om_per_kwh\")\n",
    "\n",
    "# set SiteInfo instance\n",
    "hopp_config[\"site\"] = site"
   ]
  },
  {
   "cell_type": "markdown",
   "metadata": {},
   "source": [
    "### Create the Simulation Model\n",
    "Instantiate the `HoppInterface` class by providing our modified configuration dict."
   ]
  },
  {
   "cell_type": "code",
   "execution_count": null,
   "metadata": {},
   "outputs": [],
   "source": [
    "hi = HoppInterface(hopp_config)\n"
   ]
  },
  {
   "cell_type": "code",
   "execution_count": null,
   "metadata": {},
   "outputs": [],
   "source": [
    "\n",
    "hi.system.battery.dispatch.charge_efficiency\n",
    "\n",
    "# Note: HOPP LDES does not currently account for self discharge\n",
    "\n",
    "# set round trip efficiency\n",
    "hi.system.battery.dispatch.round_trip_efficiency = 80.0"
   ]
  },
  {
   "cell_type": "markdown",
   "metadata": {},
   "source": [
    "### Run the Simulation\n",
    "Simulate the hybrid renewable energy system for a specified number of years (in this case, 25 years)."
   ]
  },
  {
   "cell_type": "code",
   "execution_count": null,
   "metadata": {},
   "outputs": [],
   "source": [
    "hi.simulate(project_life=project_life_years)"
   ]
  },
  {
   "cell_type": "markdown",
   "metadata": {},
   "source": [
    "### Print Simulation Results\n",
    "Access and display various simulation results, including annual energies, net present values (NPVs), and total revenues."
   ]
  },
  {
   "cell_type": "code",
   "execution_count": null,
   "metadata": {},
   "outputs": [],
   "source": [
    "hybrid_plant = hi.system\n",
    "\n",
    "print(\"Annual Energies (kWh):\")\n",
    "print(hybrid_plant.annual_energies)\n",
    "\n",
    "print(\"\\n Percentage of timesteps the load is met:\")\n",
    "print(hybrid_plant.grid.time_load_met)\n",
    "\n",
    "print(\"\\n Total Missed Load:\")\n",
    "print(sum(hybrid_plant.grid.missed_load), \"kWh\")\n",
    "\n",
    "print(\"\\n Percentage of the load that is missed:\")\n",
    "print(hybrid_plant.grid.missed_load_percentage)"
   ]
  },
  {
   "cell_type": "markdown",
   "metadata": {},
   "source": [
    "### Visualize Simulation Results (Optional)\n",
    "Optionally, you can visualize the simulation results using plots. Several functions are provided for plotting battery output, generation profiles, and dispatch errors."
   ]
  },
  {
   "cell_type": "code",
   "execution_count": null,
   "metadata": {},
   "outputs": [],
   "source": [
    "plot_generation_profile(hybrid_plant)"
   ]
  },
  {
   "cell_type": "code",
   "execution_count": null,
   "metadata": {},
   "outputs": [],
   "source": []
  }
 ],
 "metadata": {
  "kernelspec": {
   "display_name": "hopp",
   "language": "python",
   "name": "python3"
  },
  "language_info": {
   "codemirror_mode": {
    "name": "ipython",
    "version": 3
   },
   "file_extension": ".py",
   "mimetype": "text/x-python",
   "name": "python",
   "nbconvert_exporter": "python",
   "pygments_lexer": "ipython3",
   "version": "3.11.11"
  }
 },
 "nbformat": 4,
 "nbformat_minor": 4
}
